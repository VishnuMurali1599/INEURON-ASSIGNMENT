{
 "cells": [
  {
   "cell_type": "code",
   "execution_count": null,
   "id": "a23210b3",
   "metadata": {},
   "outputs": [],
   "source": []
  },
  {
   "cell_type": "code",
   "execution_count": null,
   "id": "e431a801",
   "metadata": {},
   "outputs": [],
   "source": [
    "1."
   ]
  },
  {
   "cell_type": "code",
   "execution_count": null,
   "id": "cae10a7d",
   "metadata": {},
   "outputs": [],
   "source": [
    "Built In functions:\n",
    "    1.Buit in  functions are the functions that are already defined by the programming languvage or its \n",
    "      standard libraries.\n",
    "    2.Built in functions are embedded in langvage.\n",
    "    3.print(),len(),sum(),range() & type() are some of the built in function.\n",
    "    4.Built in function are used for general purpose and designed to be versatile and widely appliable.\n",
    "    5.Built in function cannot be modified or extende by user.\n",
    "    \n",
    "User Defined Function:\n",
    "    1.Functions that are created and defined by user or programmer.\n",
    "    2.Theses functions are created or developed to cater specific needs or encapsulate a block of code that \n",
    "      perform a particular task.\n",
    "    3.user defined function can be updated ,modified or expanded as per the requirments of the \n",
    "      programmer.   "
   ]
  },
  {
   "cell_type": "code",
   "execution_count": 5,
   "id": "7a2ebf11",
   "metadata": {},
   "outputs": [
    {
     "name": "stdout",
     "output_type": "stream",
     "text": [
      "[10, 20, 30, 40, 50]\n",
      "5\n",
      "150\n",
      "<class 'list'>\n"
     ]
    }
   ],
   "source": [
    "#Example of Built in function:\n",
    "\n",
    "l=[10,20,30,40,50]\n",
    "print(l)\n",
    "print(len(l))\n",
    "print(sum(l))\n",
    "print(type(l))"
   ]
  },
  {
   "cell_type": "code",
   "execution_count": 6,
   "id": "d444f02b",
   "metadata": {},
   "outputs": [],
   "source": [
    "#Example of User defined Function\n",
    "\n",
    "def add():\n",
    "    a=10\n",
    "    b=20\n",
    "    return a+b"
   ]
  },
  {
   "cell_type": "code",
   "execution_count": 7,
   "id": "c8094837",
   "metadata": {},
   "outputs": [
    {
     "data": {
      "text/plain": [
       "30"
      ]
     },
     "execution_count": 7,
     "metadata": {},
     "output_type": "execute_result"
    }
   ],
   "source": [
    "add()        #Function calling"
   ]
  },
  {
   "cell_type": "code",
   "execution_count": 9,
   "id": "6685108f",
   "metadata": {},
   "outputs": [],
   "source": [
    "def prod(a,b):\n",
    "    return a*b"
   ]
  },
  {
   "cell_type": "code",
   "execution_count": 10,
   "id": "75461756",
   "metadata": {},
   "outputs": [
    {
     "data": {
      "text/plain": [
       "200"
      ]
     },
     "execution_count": 10,
     "metadata": {},
     "output_type": "execute_result"
    }
   ],
   "source": [
    "prod(10,20)"
   ]
  },
  {
   "cell_type": "code",
   "execution_count": null,
   "id": "89d6922d",
   "metadata": {},
   "outputs": [],
   "source": []
  },
  {
   "cell_type": "code",
   "execution_count": null,
   "id": "e61ed161",
   "metadata": {},
   "outputs": [],
   "source": []
  },
  {
   "cell_type": "code",
   "execution_count": null,
   "id": "9998ef45",
   "metadata": {},
   "outputs": [],
   "source": [
    "2."
   ]
  },
  {
   "cell_type": "code",
   "execution_count": null,
   "id": "a818f70e",
   "metadata": {},
   "outputs": [],
   "source": [
    "An argument is a value that is passed to a function when it is called.It might be a variable ,value\n",
    "or object passed to function or method as input.\n",
    "A function can have any number of arguments separated by comma"
   ]
  },
  {
   "cell_type": "code",
   "execution_count": 11,
   "id": "d508007e",
   "metadata": {},
   "outputs": [],
   "source": [
    "def myself(name):\n",
    "    return f\"Hi {name} , welcome to python programming langvage\""
   ]
  },
  {
   "cell_type": "code",
   "execution_count": 14,
   "id": "5f5b0775",
   "metadata": {},
   "outputs": [
    {
     "data": {
      "text/plain": [
       "'Hi vishnu , welcome to python programming langvage'"
      ]
     },
     "execution_count": 14,
     "metadata": {},
     "output_type": "execute_result"
    }
   ],
   "source": [
    "myself(\"vishnu\") # here we are passing the arguments"
   ]
  },
  {
   "cell_type": "code",
   "execution_count": null,
   "id": "19efa773",
   "metadata": {},
   "outputs": [],
   "source": [
    "Positional Arguments:\n",
    "    \n",
    "    \n",
    "    1.Arguments placing by its specific position.\n",
    "    2.Positional arguments are needed to be included in proper order i.e the first argument is always \n",
    "      listed first when function is called,second argument needs to be called second"
   ]
  },
  {
   "cell_type": "code",
   "execution_count": 15,
   "id": "38a150f8",
   "metadata": {},
   "outputs": [],
   "source": [
    "def Greetings(a,b):\n",
    "    return f\"happy to share {a} and {b} are selected\""
   ]
  },
  {
   "cell_type": "code",
   "execution_count": 16,
   "id": "9ceef71a",
   "metadata": {},
   "outputs": [
    {
     "data": {
      "text/plain": [
       "'happy to share KIRAN and ARUN are selected'"
      ]
     },
     "execution_count": 16,
     "metadata": {},
     "output_type": "execute_result"
    }
   ],
   "source": [
    "Greetings(\"KIRAN\",\"ARUN\")  #By default it is taking first argument as parameter a and second arg as parameter b ."
   ]
  },
  {
   "cell_type": "code",
   "execution_count": 20,
   "id": "cd48450b",
   "metadata": {},
   "outputs": [],
   "source": [
    "def Welcome(first_name,last_name):\n",
    "    return f\" Hello {first_name} {last_name} , welcome to this AI World \""
   ]
  },
  {
   "cell_type": "code",
   "execution_count": 21,
   "id": "777746a2",
   "metadata": {},
   "outputs": [
    {
     "data": {
      "text/plain": [
       "' Hello Vishnu Murali , welcome to this AI World '"
      ]
     },
     "execution_count": 21,
     "metadata": {},
     "output_type": "execute_result"
    }
   ],
   "source": [
    "Welcome(\"Vishnu\",\"Murali\")"
   ]
  },
  {
   "cell_type": "code",
   "execution_count": 22,
   "id": "d0a2d459",
   "metadata": {},
   "outputs": [
    {
     "data": {
      "text/plain": [
       "' Hello Murali Vishnu , welcome to this AI World '"
      ]
     },
     "execution_count": 22,
     "metadata": {},
     "output_type": "execute_result"
    }
   ],
   "source": [
    "Welcome(\"Murali\",\"Vishnu\")"
   ]
  },
  {
   "cell_type": "code",
   "execution_count": null,
   "id": "b6a2b212",
   "metadata": {},
   "outputs": [],
   "source": []
  },
  {
   "cell_type": "code",
   "execution_count": null,
   "id": "a6bd6b89",
   "metadata": {},
   "outputs": [],
   "source": [
    "2.KeyWord Arguments:\n",
    "    \n",
    "    \n",
    "    1.Key Word arguments is the arguments passed to a function or method which is preceded by a keyword\n",
    "      and equal sign.\n",
    "    2.The order of key word arguments with respect to another keyword argument does not matter because the values\n",
    "      are being explicitly assigned."
   ]
  },
  {
   "cell_type": "code",
   "execution_count": 25,
   "id": "d6fd9aba",
   "metadata": {},
   "outputs": [],
   "source": [
    "def Welcome(firstname,lastname):\n",
    "    return f\"Welcome to Ai world Mr\\Ms , {firstname} {lastname}\""
   ]
  },
  {
   "cell_type": "code",
   "execution_count": 26,
   "id": "b889c93c",
   "metadata": {},
   "outputs": [
    {
     "data": {
      "text/plain": [
       "'Welcome to Ai world Mr\\\\Ms , Ram Charan'"
      ]
     },
     "execution_count": 26,
     "metadata": {},
     "output_type": "execute_result"
    }
   ],
   "source": [
    "Welcome(\"Ram\",\"Charan\")"
   ]
  },
  {
   "cell_type": "code",
   "execution_count": 29,
   "id": "7f858e17",
   "metadata": {},
   "outputs": [
    {
     "data": {
      "text/plain": [
       "'Welcome to Ai world Mr\\\\Ms , Ram Charan'"
      ]
     },
     "execution_count": 29,
     "metadata": {},
     "output_type": "execute_result"
    }
   ],
   "source": [
    "Welcome(lastname=\"Charan\",firstname=\"Ram\")"
   ]
  },
  {
   "cell_type": "code",
   "execution_count": null,
   "id": "46edafb8",
   "metadata": {},
   "outputs": [],
   "source": []
  },
  {
   "cell_type": "code",
   "execution_count": null,
   "id": "423bb8a2",
   "metadata": {},
   "outputs": [],
   "source": []
  },
  {
   "cell_type": "code",
   "execution_count": null,
   "id": "bf9ccc38",
   "metadata": {},
   "outputs": [],
   "source": [
    "3."
   ]
  },
  {
   "cell_type": "code",
   "execution_count": null,
   "id": "9e586bbf",
   "metadata": {},
   "outputs": [],
   "source": [
    "Return Statement is used to exist from a function and go back to the function caller and return\n",
    "the specified value or data item to the caller."
   ]
  },
  {
   "cell_type": "code",
   "execution_count": 33,
   "id": "b4aa1298",
   "metadata": {},
   "outputs": [],
   "source": [
    "def test():\n",
    "    return \"welcome all to the Programming\""
   ]
  },
  {
   "cell_type": "code",
   "execution_count": 35,
   "id": "d3082014",
   "metadata": {},
   "outputs": [],
   "source": [
    "a=test()"
   ]
  },
  {
   "cell_type": "code",
   "execution_count": 37,
   "id": "fdfab9fb",
   "metadata": {},
   "outputs": [
    {
     "data": {
      "text/plain": [
       "'welcome all to the Programming and data science'"
      ]
     },
     "execution_count": 37,
     "metadata": {},
     "output_type": "execute_result"
    }
   ],
   "source": [
    "a +\" and data science\""
   ]
  },
  {
   "cell_type": "code",
   "execution_count": 106,
   "id": "217f6a51",
   "metadata": {},
   "outputs": [],
   "source": [
    "def test1():\n",
    "    print(\"welcome all to the programming\")"
   ]
  },
  {
   "cell_type": "code",
   "execution_count": null,
   "id": "6ef1c6b3",
   "metadata": {},
   "outputs": [],
   "source": [
    "test1() + \"to the digital world\" "
   ]
  },
  {
   "cell_type": "code",
   "execution_count": null,
   "id": "7aaa9930",
   "metadata": {},
   "outputs": [],
   "source": [
    "\"\"\"print function will provide non type values>>> means we cannot add string in it.\n",
    "\n",
    "return function will provide type values >>> were we can add string values in it.\"\"\""
   ]
  },
  {
   "cell_type": "code",
   "execution_count": null,
   "id": "b80db047",
   "metadata": {},
   "outputs": [],
   "source": [
    "The Function can have multiple return statements"
   ]
  },
  {
   "cell_type": "code",
   "execution_count": 44,
   "id": "71abea27",
   "metadata": {},
   "outputs": [],
   "source": [
    "def test2(a,b):\n",
    "    if a>b:\n",
    "        return a\n",
    "    else:\n",
    "        return b"
   ]
  },
  {
   "cell_type": "code",
   "execution_count": 45,
   "id": "209298e5",
   "metadata": {},
   "outputs": [
    {
     "data": {
      "text/plain": [
       "20"
      ]
     },
     "execution_count": 45,
     "metadata": {},
     "output_type": "execute_result"
    }
   ],
   "source": [
    "test2(10,20)"
   ]
  },
  {
   "cell_type": "code",
   "execution_count": 46,
   "id": "e32fbabe",
   "metadata": {},
   "outputs": [
    {
     "data": {
      "text/plain": [
       "50"
      ]
     },
     "execution_count": 46,
     "metadata": {},
     "output_type": "execute_result"
    }
   ],
   "source": [
    "test2(50,10)"
   ]
  },
  {
   "cell_type": "code",
   "execution_count": null,
   "id": "78a246a6",
   "metadata": {},
   "outputs": [],
   "source": []
  },
  {
   "cell_type": "code",
   "execution_count": null,
   "id": "4f8f8e84",
   "metadata": {},
   "outputs": [],
   "source": []
  },
  {
   "cell_type": "code",
   "execution_count": null,
   "id": "0a18b89d",
   "metadata": {},
   "outputs": [],
   "source": [
    "4."
   ]
  },
  {
   "cell_type": "code",
   "execution_count": null,
   "id": "41ae6dc7",
   "metadata": {},
   "outputs": [],
   "source": [
    "Lambda function are also known as anonymys function ,a function without name.\n",
    "1.These are small one line function defined using lambda keyword.\n",
    "2.They can take any number of arguments but can only have one expresiion."
   ]
  },
  {
   "cell_type": "code",
   "execution_count": null,
   "id": "ae07e07f",
   "metadata": {},
   "outputs": [],
   "source": [
    "lambda function primarily used for immediate, one-time operations or as arguments to other functions.\n",
    "Regular functions, on the other hand, have a name assigned to them and can be called multiple \n",
    "times from different parts of the program."
   ]
  },
  {
   "cell_type": "code",
   "execution_count": 47,
   "id": "654c56df",
   "metadata": {},
   "outputs": [
    {
     "data": {
      "text/plain": [
       "<function __main__.<lambda>(x)>"
      ]
     },
     "execution_count": 47,
     "metadata": {},
     "output_type": "execute_result"
    }
   ],
   "source": [
    "lambda x:x**2"
   ]
  },
  {
   "cell_type": "code",
   "execution_count": 48,
   "id": "ca4cc13a",
   "metadata": {},
   "outputs": [],
   "source": [
    "a=lambda x:x**2"
   ]
  },
  {
   "cell_type": "code",
   "execution_count": 49,
   "id": "763ac7ea",
   "metadata": {},
   "outputs": [
    {
     "data": {
      "text/plain": [
       "100"
      ]
     },
     "execution_count": 49,
     "metadata": {},
     "output_type": "execute_result"
    }
   ],
   "source": [
    "a(10)"
   ]
  },
  {
   "cell_type": "code",
   "execution_count": null,
   "id": "0971417e",
   "metadata": {},
   "outputs": [],
   "source": []
  },
  {
   "cell_type": "code",
   "execution_count": null,
   "id": "e8d1589e",
   "metadata": {},
   "outputs": [],
   "source": []
  },
  {
   "cell_type": "code",
   "execution_count": null,
   "id": "b72a3b34",
   "metadata": {},
   "outputs": [],
   "source": [
    "5."
   ]
  },
  {
   "cell_type": "code",
   "execution_count": null,
   "id": "6e4ba668",
   "metadata": {},
   "outputs": [],
   "source": [
    "Scope: scope refers to the region or context in which a variable is defined and can be accessed.\n",
    "        The scope determines the visibility and lifetime of variables within a program"
   ]
  },
  {
   "cell_type": "code",
   "execution_count": null,
   "id": "e592eb05",
   "metadata": {},
   "outputs": [],
   "source": [
    "Local Scope or Local variable:\n",
    "        Local variables in Python are those which are initialized inside a function and belong \n",
    "        only to that particular function. \n",
    "        \n",
    "        It cannot be accessed anywhere outside the function"
   ]
  },
  {
   "cell_type": "code",
   "execution_count": 1,
   "id": "8a38334c",
   "metadata": {},
   "outputs": [],
   "source": [
    "def test():\n",
    "    x=\"vishnu\"\n",
    "    print(f\"Welcome to AI World : MR {x}\")"
   ]
  },
  {
   "cell_type": "code",
   "execution_count": 2,
   "id": "0dc3ffe0",
   "metadata": {},
   "outputs": [
    {
     "name": "stdout",
     "output_type": "stream",
     "text": [
      "Welcome to AI World : MR vishnu\n"
     ]
    }
   ],
   "source": [
    "test()"
   ]
  },
  {
   "cell_type": "code",
   "execution_count": 4,
   "id": "8b9d75e7",
   "metadata": {},
   "outputs": [],
   "source": [
    "def test2(a):\n",
    "    name=\"vishnu\"\n",
    "    if a%2==0:\n",
    "        print(f\"{name},Hurray! you have entered even number\")\n",
    "    else:\n",
    "        print(f\"{name},Hurray! you have entered odd number\" )"
   ]
  },
  {
   "cell_type": "code",
   "execution_count": 5,
   "id": "a02dcb94",
   "metadata": {},
   "outputs": [
    {
     "name": "stdout",
     "output_type": "stream",
     "text": [
      "vishnu,Hurray! you have entered even number\n"
     ]
    }
   ],
   "source": [
    "test2(10)"
   ]
  },
  {
   "cell_type": "code",
   "execution_count": 6,
   "id": "b2652208",
   "metadata": {},
   "outputs": [
    {
     "name": "stdout",
     "output_type": "stream",
     "text": [
      "vishnu,Hurray! you have entered odd number\n"
     ]
    }
   ],
   "source": [
    "test2(5)"
   ]
  },
  {
   "cell_type": "code",
   "execution_count": null,
   "id": "799c4786",
   "metadata": {},
   "outputs": [],
   "source": []
  },
  {
   "cell_type": "code",
   "execution_count": null,
   "id": "429fd430",
   "metadata": {},
   "outputs": [],
   "source": [
    "Global Scope or Global Variable:\n",
    "        Global scope are those which are defined outside any function and which are \n",
    "        accessible throughout the program, i.e., inside and outside of every function."
   ]
  },
  {
   "cell_type": "code",
   "execution_count": 42,
   "id": "3b09667f",
   "metadata": {},
   "outputs": [],
   "source": [
    "data=100\n",
    "\n",
    "def test2():\n",
    "    print(data)"
   ]
  },
  {
   "cell_type": "code",
   "execution_count": 8,
   "id": "f2663f77",
   "metadata": {
    "scrolled": true
   },
   "outputs": [
    {
     "name": "stdout",
     "output_type": "stream",
     "text": [
      "100\n"
     ]
    }
   ],
   "source": [
    "test2() #global variable acceseble outside function"
   ]
  },
  {
   "cell_type": "code",
   "execution_count": 39,
   "id": "b29ca857",
   "metadata": {},
   "outputs": [],
   "source": [
    "data=\"AI is Future\"\n",
    "\n",
    "def test3(a):\n",
    "    if a==int:\n",
    "        print(\"Welcome all to python MR:\",a,\"and\",data)\n",
    "    else:\n",
    "        print(\"Something wrong in input, its kk but\",data)"
   ]
  },
  {
   "cell_type": "code",
   "execution_count": 40,
   "id": "231eda2b",
   "metadata": {},
   "outputs": [
    {
     "name": "stdout",
     "output_type": "stream",
     "text": [
      "Something wrong in input, its kk but AI is Future\n"
     ]
    }
   ],
   "source": [
    "test3(10)"
   ]
  },
  {
   "cell_type": "code",
   "execution_count": null,
   "id": "125cd60a",
   "metadata": {},
   "outputs": [],
   "source": []
  },
  {
   "cell_type": "code",
   "execution_count": null,
   "id": "7ccfe44f",
   "metadata": {},
   "outputs": [],
   "source": []
  },
  {
   "cell_type": "code",
   "execution_count": null,
   "id": "1063cea9",
   "metadata": {},
   "outputs": [],
   "source": [
    "6."
   ]
  },
  {
   "cell_type": "code",
   "execution_count": null,
   "id": "f67cf04c",
   "metadata": {},
   "outputs": [],
   "source": [
    "The \"return\" statement in a function to return multiple values as a tuple, list, or any other \n",
    "data structure that holds multiple values."
   ]
  },
  {
   "cell_type": "code",
   "execution_count": 50,
   "id": "5f6eb0f3",
   "metadata": {},
   "outputs": [],
   "source": [
    "def area_peri_circ(radius):\n",
    "    area_of_circle=(3.1412*radius**2)\n",
    "    perimeter_of_circle=(3.1412*(radius*2))\n",
    "    circumference_circle=(2*3.1412*radius)\n",
    "    \n",
    "    return f\"The area,perimeter,circumference of circle is : {area_of_circle,perimeter_of_circle,circumference_circle}\"\n",
    "    "
   ]
  },
  {
   "cell_type": "code",
   "execution_count": 49,
   "id": "16641311",
   "metadata": {},
   "outputs": [
    {
     "data": {
      "text/plain": [
       "'The area,perimeter,circumference of circle is : (1963.25, 157.06, 157.06)'"
      ]
     },
     "execution_count": 49,
     "metadata": {},
     "output_type": "execute_result"
    }
   ],
   "source": [
    "area_peri_circ(25)"
   ]
  },
  {
   "cell_type": "code",
   "execution_count": null,
   "id": "400877ac",
   "metadata": {},
   "outputs": [],
   "source": []
  },
  {
   "cell_type": "code",
   "execution_count": null,
   "id": "413acb99",
   "metadata": {},
   "outputs": [],
   "source": []
  },
  {
   "cell_type": "code",
   "execution_count": null,
   "id": "e40807f7",
   "metadata": {},
   "outputs": [],
   "source": [
    "7."
   ]
  },
  {
   "cell_type": "code",
   "execution_count": null,
   "id": "03b4c75c",
   "metadata": {},
   "outputs": [],
   "source": [
    "Pass by Value:\n",
    "    When a function is called with arguments, the values of the arguments are readed by the \n",
    "    functions parameters. Any changes made to the parameters within the function do not \n",
    "    affect the original values of the arguments outside the function."
   ]
  },
  {
   "cell_type": "code",
   "execution_count": 69,
   "id": "c72bbf46",
   "metadata": {},
   "outputs": [],
   "source": [
    "def test(arg):\n",
    "    return arg + 1000"
   ]
  },
  {
   "cell_type": "code",
   "execution_count": 70,
   "id": "1b371a56",
   "metadata": {},
   "outputs": [
    {
     "data": {
      "text/plain": [
       "1010"
      ]
     },
     "execution_count": 70,
     "metadata": {},
     "output_type": "execute_result"
    }
   ],
   "source": [
    "test(10)"
   ]
  },
  {
   "cell_type": "code",
   "execution_count": 71,
   "id": "f6190aaa",
   "metadata": {},
   "outputs": [],
   "source": [
    "def test(arg):\n",
    "    return arg + 10"
   ]
  },
  {
   "cell_type": "code",
   "execution_count": 72,
   "id": "20a10389",
   "metadata": {},
   "outputs": [
    {
     "data": {
      "text/plain": [
       "35"
      ]
     },
     "execution_count": 72,
     "metadata": {},
     "output_type": "execute_result"
    }
   ],
   "source": [
    "num=25\n",
    "test(num)"
   ]
  },
  {
   "cell_type": "code",
   "execution_count": 73,
   "id": "73041e6f",
   "metadata": {},
   "outputs": [
    {
     "name": "stdout",
     "output_type": "stream",
     "text": [
      "25\n"
     ]
    }
   ],
   "source": [
    "print(num)"
   ]
  },
  {
   "cell_type": "code",
   "execution_count": null,
   "id": "0adf30db",
   "metadata": {},
   "outputs": [],
   "source": []
  },
  {
   "cell_type": "code",
   "execution_count": null,
   "id": "ba895aa2",
   "metadata": {},
   "outputs": [],
   "source": [
    "Pass By reference:\n",
    "    Pass by reference languages, when a function is called with arguments, the reference of the \n",
    "    arguments is passed to the function. Any changes made to the parameters within the \n",
    "    function directly affect the original values of the arguments outside the function."
   ]
  },
  {
   "cell_type": "code",
   "execution_count": 64,
   "id": "92c268e2",
   "metadata": {},
   "outputs": [],
   "source": [
    "def test(arg):\n",
    "    return \"Hi! how are you\""
   ]
  },
  {
   "cell_type": "code",
   "execution_count": 67,
   "id": "b2643bb4",
   "metadata": {},
   "outputs": [
    {
     "data": {
      "text/plain": [
       "'Hi! how are you'"
      ]
     },
     "execution_count": 67,
     "metadata": {},
     "output_type": "execute_result"
    }
   ],
   "source": [
    "arg1=\"Vishnu\"\n",
    "test(arg1)"
   ]
  },
  {
   "cell_type": "code",
   "execution_count": 68,
   "id": "43a90e58",
   "metadata": {},
   "outputs": [
    {
     "name": "stdout",
     "output_type": "stream",
     "text": [
      "Vishnu\n"
     ]
    }
   ],
   "source": [
    "print(arg1)"
   ]
  },
  {
   "cell_type": "code",
   "execution_count": 87,
   "id": "22ddaf58",
   "metadata": {},
   "outputs": [],
   "source": [
    "def modify_list(lst):\n",
    "    lst.append(4)\n",
    "    return lst"
   ]
  },
  {
   "cell_type": "code",
   "execution_count": 88,
   "id": "125b1cc2",
   "metadata": {},
   "outputs": [
    {
     "data": {
      "text/plain": [
       "[1, 2, 3, 4]"
      ]
     },
     "execution_count": 88,
     "metadata": {},
     "output_type": "execute_result"
    }
   ],
   "source": [
    "my_list=[1,2,3]\n",
    "modify_list(my_list)"
   ]
  },
  {
   "cell_type": "code",
   "execution_count": 89,
   "id": "faf83561",
   "metadata": {},
   "outputs": [
    {
     "name": "stdout",
     "output_type": "stream",
     "text": [
      "[1, 2, 3, 4]\n"
     ]
    }
   ],
   "source": [
    "print(my_list)"
   ]
  },
  {
   "cell_type": "code",
   "execution_count": 90,
   "id": "d4b4e781",
   "metadata": {},
   "outputs": [
    {
     "data": {
      "text/plain": [
       "[10, 20, 30, 4]"
      ]
     },
     "execution_count": 90,
     "metadata": {},
     "output_type": "execute_result"
    }
   ],
   "source": [
    "modify_list([10,20,30])"
   ]
  },
  {
   "cell_type": "code",
   "execution_count": null,
   "id": "40952dbc",
   "metadata": {},
   "outputs": [],
   "source": []
  },
  {
   "cell_type": "code",
   "execution_count": null,
   "id": "795e85e1",
   "metadata": {},
   "outputs": [],
   "source": []
  },
  {
   "cell_type": "code",
   "execution_count": null,
   "id": "2511239d",
   "metadata": {},
   "outputs": [],
   "source": [
    "8."
   ]
  },
  {
   "cell_type": "code",
   "execution_count": 91,
   "id": "ed12f37a",
   "metadata": {},
   "outputs": [],
   "source": [
    "import math"
   ]
  },
  {
   "cell_type": "code",
   "execution_count": 97,
   "id": "51eee792",
   "metadata": {},
   "outputs": [],
   "source": [
    "def mathematical_operation(num):\n",
    "    log_num=math.log(num)\n",
    "    exp_num=math.exp(num)\n",
    "    power_num=math.pow(2,num)\n",
    "    sqrt_num=math.sqrt(num)\n",
    "    \n",
    "    return log_num,exp_num,power_num,sqrt_num"
   ]
  },
  {
   "cell_type": "code",
   "execution_count": 99,
   "id": "e3114841",
   "metadata": {},
   "outputs": [
    {
     "data": {
      "text/plain": [
       "(1.3862943611198906, 54.598150033144236, 16.0, 2.0)"
      ]
     },
     "execution_count": 99,
     "metadata": {},
     "output_type": "execute_result"
    }
   ],
   "source": [
    "mathematical_operation(4)"
   ]
  },
  {
   "cell_type": "code",
   "execution_count": null,
   "id": "e9b1f067",
   "metadata": {},
   "outputs": [],
   "source": []
  },
  {
   "cell_type": "code",
   "execution_count": null,
   "id": "32d3e752",
   "metadata": {},
   "outputs": [],
   "source": []
  },
  {
   "cell_type": "code",
   "execution_count": null,
   "id": "c3e0c3f8",
   "metadata": {},
   "outputs": [],
   "source": [
    "9."
   ]
  },
  {
   "cell_type": "code",
   "execution_count": 100,
   "id": "5c53728c",
   "metadata": {},
   "outputs": [],
   "source": [
    "def fullname(a):\n",
    "    name_parts=a.split()\n",
    "    first_name=name_parts[0]\n",
    "    last_name=name_parts[-1]\n",
    "    \n",
    "    return first_name,last_name\n",
    "    "
   ]
  },
  {
   "cell_type": "code",
   "execution_count": 102,
   "id": "22e5767c",
   "metadata": {},
   "outputs": [
    {
     "data": {
      "text/plain": [
       "('Vishnu', 'Murali')"
      ]
     },
     "execution_count": 102,
     "metadata": {},
     "output_type": "execute_result"
    }
   ],
   "source": [
    "fullname(\"Vishnu Murali\")"
   ]
  },
  {
   "cell_type": "code",
   "execution_count": 103,
   "id": "347935e4",
   "metadata": {},
   "outputs": [
    {
     "data": {
      "text/plain": [
       "('nivinpauly', 'nivinpauly')"
      ]
     },
     "execution_count": 103,
     "metadata": {},
     "output_type": "execute_result"
    }
   ],
   "source": [
    "fullname(\"nivinpauly\")"
   ]
  },
  {
   "cell_type": "code",
   "execution_count": 104,
   "id": "6f70c965",
   "metadata": {},
   "outputs": [
    {
     "data": {
      "text/plain": [
       "('Smitha', 'Murali')"
      ]
     },
     "execution_count": 104,
     "metadata": {},
     "output_type": "execute_result"
    }
   ],
   "source": [
    "fullname(\"Smitha Murali\")"
   ]
  },
  {
   "cell_type": "code",
   "execution_count": null,
   "id": "7aacedd1",
   "metadata": {},
   "outputs": [],
   "source": []
  }
 ],
 "metadata": {
  "kernelspec": {
   "display_name": "Python 3 (ipykernel)",
   "language": "python",
   "name": "python3"
  },
  "language_info": {
   "codemirror_mode": {
    "name": "ipython",
    "version": 3
   },
   "file_extension": ".py",
   "mimetype": "text/x-python",
   "name": "python",
   "nbconvert_exporter": "python",
   "pygments_lexer": "ipython3",
   "version": "3.10.9"
  }
 },
 "nbformat": 4,
 "nbformat_minor": 5
}
