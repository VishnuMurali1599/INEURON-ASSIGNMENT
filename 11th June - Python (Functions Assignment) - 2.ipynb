{
 "cells": [
  {
   "cell_type": "markdown",
   "id": "8b846250",
   "metadata": {},
   "source": [
    "# Functions Assignment - 2"
   ]
  },
  {
   "cell_type": "code",
   "execution_count": null,
   "id": "c757892e",
   "metadata": {},
   "outputs": [],
   "source": []
  },
  {
   "cell_type": "code",
   "execution_count": null,
   "id": "e79bd960",
   "metadata": {},
   "outputs": [],
   "source": [
    "1."
   ]
  },
  {
   "cell_type": "code",
   "execution_count": null,
   "id": "e785f1fe",
   "metadata": {},
   "outputs": [],
   "source": [
    "Lambda function are also known as anonymous function or a function without a name is known as \n",
    "lambda function.\n",
    "Lambda function can take any number of arguments , but can only have one expression.\n",
    "These are small one line functions defined using the lambda keyqord."
   ]
  },
  {
   "cell_type": "code",
   "execution_count": null,
   "id": "74a9f32e",
   "metadata": {},
   "outputs": [],
   "source": [
    "Lambda functions are primarly used for immediate ,one-time operator as arguments to other function.\n",
    "Regular Functions have named assigned to them and can be called multiple times from different part\n",
    "of program."
   ]
  },
  {
   "cell_type": "code",
   "execution_count": 1,
   "id": "4d06df5c",
   "metadata": {},
   "outputs": [],
   "source": [
    "x=lambda a : a+10"
   ]
  },
  {
   "cell_type": "code",
   "execution_count": 2,
   "id": "99c9d14b",
   "metadata": {},
   "outputs": [
    {
     "name": "stdout",
     "output_type": "stream",
     "text": [
      "60\n"
     ]
    }
   ],
   "source": [
    "print(x(50))"
   ]
  },
  {
   "cell_type": "code",
   "execution_count": 3,
   "id": "07ed909a",
   "metadata": {},
   "outputs": [
    {
     "name": "stdout",
     "output_type": "stream",
     "text": [
      "895646.5\n"
     ]
    }
   ],
   "source": [
    "x=lambda a : a/10\n",
    "print(x(8956465))"
   ]
  },
  {
   "cell_type": "code",
   "execution_count": 4,
   "id": "5cd7395d",
   "metadata": {},
   "outputs": [
    {
     "name": "stdout",
     "output_type": "stream",
     "text": [
      "100\n"
     ]
    }
   ],
   "source": [
    "x=lambda a,b : a**b\n",
    "print(x(10,2))"
   ]
  },
  {
   "cell_type": "code",
   "execution_count": 5,
   "id": "1944ef3a",
   "metadata": {},
   "outputs": [
    {
     "name": "stdout",
     "output_type": "stream",
     "text": [
      "6000\n"
     ]
    }
   ],
   "source": [
    "x=lambda a,b,c :a*b*c\n",
    "print(x(10,20,30))"
   ]
  },
  {
   "cell_type": "code",
   "execution_count": 6,
   "id": "a5bfe0fb",
   "metadata": {},
   "outputs": [],
   "source": [
    "def test(n):\n",
    "    return lambda a:a*n"
   ]
  },
  {
   "cell_type": "code",
   "execution_count": 7,
   "id": "24edbf8a",
   "metadata": {},
   "outputs": [
    {
     "data": {
      "text/plain": [
       "<function __main__.test.<locals>.<lambda>(a)>"
      ]
     },
     "execution_count": 7,
     "metadata": {},
     "output_type": "execute_result"
    }
   ],
   "source": [
    "test(25)"
   ]
  },
  {
   "cell_type": "code",
   "execution_count": 8,
   "id": "09a1287a",
   "metadata": {},
   "outputs": [],
   "source": [
    "test2=test(25)"
   ]
  },
  {
   "cell_type": "code",
   "execution_count": 9,
   "id": "7e5f0934",
   "metadata": {},
   "outputs": [
    {
     "data": {
      "text/plain": [
       "2500"
      ]
     },
     "execution_count": 9,
     "metadata": {},
     "output_type": "execute_result"
    }
   ],
   "source": [
    "test2(100)"
   ]
  },
  {
   "cell_type": "code",
   "execution_count": null,
   "id": "fc936d63",
   "metadata": {},
   "outputs": [],
   "source": []
  },
  {
   "cell_type": "code",
   "execution_count": null,
   "id": "c7aa5258",
   "metadata": {},
   "outputs": [],
   "source": []
  },
  {
   "cell_type": "code",
   "execution_count": null,
   "id": "ec6d624d",
   "metadata": {},
   "outputs": [],
   "source": [
    "2."
   ]
  },
  {
   "cell_type": "code",
   "execution_count": null,
   "id": "b70baa75",
   "metadata": {},
   "outputs": [],
   "source": [
    "A lambda function in Python can have multiple arguments. A lambda function is a small anonymous\n",
    "function that can have any number of arguments, but it can only have one expression."
   ]
  },
  {
   "cell_type": "code",
   "execution_count": 10,
   "id": "32029ae7",
   "metadata": {},
   "outputs": [
    {
     "data": {
      "text/plain": [
       "1000"
      ]
     },
     "execution_count": 10,
     "metadata": {},
     "output_type": "execute_result"
    }
   ],
   "source": [
    "multi=lambda x,y:x**y\n",
    "multi(10,3)"
   ]
  },
  {
   "cell_type": "code",
   "execution_count": 12,
   "id": "7c99ca27",
   "metadata": {},
   "outputs": [
    {
     "data": {
      "text/plain": [
       "'vishnu murali menon '"
      ]
     },
     "execution_count": 12,
     "metadata": {},
     "output_type": "execute_result"
    }
   ],
   "source": [
    "concat=lambda x,y,c:x+y+c\n",
    "concat(\"vishnu \",\"murali \",\"menon \")"
   ]
  },
  {
   "cell_type": "code",
   "execution_count": 14,
   "id": "b36af3b7",
   "metadata": {},
   "outputs": [
    {
     "data": {
      "text/plain": [
       "66452.04"
      ]
     },
     "execution_count": 14,
     "metadata": {},
     "output_type": "execute_result"
    }
   ],
   "source": [
    "add=lambda x,y,z : x+y+z\n",
    "add(10.54,66.5,66375)"
   ]
  },
  {
   "cell_type": "code",
   "execution_count": null,
   "id": "e48886c4",
   "metadata": {},
   "outputs": [],
   "source": []
  },
  {
   "cell_type": "code",
   "execution_count": null,
   "id": "317ad11f",
   "metadata": {},
   "outputs": [],
   "source": []
  },
  {
   "cell_type": "code",
   "execution_count": null,
   "id": "0876fd99",
   "metadata": {},
   "outputs": [],
   "source": [
    "3."
   ]
  },
  {
   "cell_type": "code",
   "execution_count": null,
   "id": "6f651cf8",
   "metadata": {},
   "outputs": [],
   "source": [
    "Lambda functions are effiecent whenever we want to create a function that will only contain simple expression i.e \n",
    "expressions that are usually a single line of a statement.They are also useful when we want to use the \n",
    "function once."
   ]
  },
  {
   "cell_type": "code",
   "execution_count": null,
   "id": "b787a372",
   "metadata": {},
   "outputs": [],
   "source": [
    "### Regular Function"
   ]
  },
  {
   "cell_type": "code",
   "execution_count": 15,
   "id": "448d2381",
   "metadata": {},
   "outputs": [],
   "source": [
    "num = [1, 2, 3, 4, 5, 6, 7, 8, 9, 10]"
   ]
  },
  {
   "cell_type": "code",
   "execution_count": 16,
   "id": "5030d2b3",
   "metadata": {},
   "outputs": [],
   "source": [
    "def is_even(num):\n",
    "    return num % 2 == 0"
   ]
  },
  {
   "cell_type": "code",
   "execution_count": 17,
   "id": "ea40b918",
   "metadata": {},
   "outputs": [],
   "source": [
    "even_num=filter(is_even,num)"
   ]
  },
  {
   "cell_type": "code",
   "execution_count": 18,
   "id": "e0d4b3c8",
   "metadata": {},
   "outputs": [
    {
     "data": {
      "text/plain": [
       "[2, 4, 6, 8, 10]"
      ]
     },
     "execution_count": 18,
     "metadata": {},
     "output_type": "execute_result"
    }
   ],
   "source": [
    "list(even_num)"
   ]
  },
  {
   "cell_type": "code",
   "execution_count": 19,
   "id": "9872a763",
   "metadata": {},
   "outputs": [],
   "source": [
    "l=[10,54,6956,5561,586,56,7,465,94,842,98,47,95,95,362,476]"
   ]
  },
  {
   "cell_type": "code",
   "execution_count": 20,
   "id": "917d6ec4",
   "metadata": {},
   "outputs": [],
   "source": [
    "even_num=filter(is_even,l)"
   ]
  },
  {
   "cell_type": "code",
   "execution_count": 22,
   "id": "b0ab8759",
   "metadata": {},
   "outputs": [
    {
     "data": {
      "text/plain": [
       "[10, 54, 6956, 586, 56, 94, 842, 98, 362, 476]"
      ]
     },
     "execution_count": 22,
     "metadata": {},
     "output_type": "execute_result"
    }
   ],
   "source": [
    "list(even_num)"
   ]
  },
  {
   "cell_type": "code",
   "execution_count": null,
   "id": "95363fff",
   "metadata": {},
   "outputs": [],
   "source": [
    "### lambda Function"
   ]
  },
  {
   "cell_type": "code",
   "execution_count": 23,
   "id": "761c5b26",
   "metadata": {},
   "outputs": [],
   "source": [
    "numbers = [1, 2, 3, 4, 5, 6, 7, 8, 9, 10]"
   ]
  },
  {
   "cell_type": "code",
   "execution_count": 24,
   "id": "7143d133",
   "metadata": {},
   "outputs": [
    {
     "data": {
      "text/plain": [
       "(<function __main__.<lambda>(number)>, [1, 2, 3, 4, 5, 6, 7, 8, 9, 10])"
      ]
     },
     "execution_count": 24,
     "metadata": {},
     "output_type": "execute_result"
    }
   ],
   "source": [
    "(lambda number:number%2==0,numbers)"
   ]
  },
  {
   "cell_type": "code",
   "execution_count": 25,
   "id": "347e939c",
   "metadata": {},
   "outputs": [
    {
     "data": {
      "text/plain": [
       "<filter at 0x1f7d15a2680>"
      ]
     },
     "execution_count": 25,
     "metadata": {},
     "output_type": "execute_result"
    }
   ],
   "source": [
    "filter(lambda number:number%2==0,numbers)"
   ]
  },
  {
   "cell_type": "code",
   "execution_count": 26,
   "id": "8a2feece",
   "metadata": {},
   "outputs": [
    {
     "data": {
      "text/plain": [
       "[2, 4, 6, 8, 10]"
      ]
     },
     "execution_count": 26,
     "metadata": {},
     "output_type": "execute_result"
    }
   ],
   "source": [
    "list(filter(lambda number:number%2==0,numbers))"
   ]
  },
  {
   "cell_type": "code",
   "execution_count": null,
   "id": "d581ec70",
   "metadata": {},
   "outputs": [],
   "source": []
  },
  {
   "cell_type": "code",
   "execution_count": 30,
   "id": "5579bd60",
   "metadata": {},
   "outputs": [
    {
     "data": {
      "text/plain": [
       "[10, 54, 6956, 586, 56, 94, 842, 98, 362, 476]"
      ]
     },
     "execution_count": 30,
     "metadata": {},
     "output_type": "execute_result"
    }
   ],
   "source": [
    "list(filter(lambda num:num%2 ==0 ,l))"
   ]
  },
  {
   "cell_type": "code",
   "execution_count": null,
   "id": "8757a81b",
   "metadata": {},
   "outputs": [],
   "source": []
  },
  {
   "cell_type": "code",
   "execution_count": null,
   "id": "6cdd5b71",
   "metadata": {},
   "outputs": [],
   "source": []
  },
  {
   "cell_type": "code",
   "execution_count": null,
   "id": "91d55d9c",
   "metadata": {},
   "outputs": [],
   "source": [
    "4."
   ]
  },
  {
   "cell_type": "code",
   "execution_count": null,
   "id": "ff07f74b",
   "metadata": {},
   "outputs": [],
   "source": [
    "Lambda functions allow you to define small, one-line functions without the need to write a full \n",
    "def block. This makes the code more compact and readable for simple operations.\n",
    "\n",
    "Lambda functions are commonly used as arguments for higher-order functions like map, filter, and \n",
    "sorted. They allow you to define the function directly where its needed without cluttering the\n",
    "code with named function definitions.\n",
    "\n",
    "Lambda functions are particularly useful in functional programming paradigms, where you often \n",
    "work with functions as first-class citizens. They make it easy to express operations in a more \n",
    "functional style."
   ]
  },
  {
   "cell_type": "code",
   "execution_count": null,
   "id": "ed080cad",
   "metadata": {},
   "outputs": [],
   "source": []
  },
  {
   "cell_type": "code",
   "execution_count": null,
   "id": "6142ece1",
   "metadata": {},
   "outputs": [],
   "source": []
  },
  {
   "cell_type": "code",
   "execution_count": null,
   "id": "9886fe7e",
   "metadata": {},
   "outputs": [],
   "source": [
    "5."
   ]
  },
  {
   "cell_type": "code",
   "execution_count": null,
   "id": "3b815ed6",
   "metadata": {},
   "outputs": [],
   "source": [
    "Lambda functions in Python can access variables that are defined outside of their own scope.\n",
    "Lambda functions can capture and use variables from the surrounding scope in which they are defined."
   ]
  },
  {
   "cell_type": "code",
   "execution_count": null,
   "id": "dba5fee1",
   "metadata": {},
   "outputs": [],
   "source": [
    "Lambda functions can access and use variables from the surrounding scope where they are defined. \n",
    "This feature is particularly useful when you want to create functions with specific behavior tailored\n",
    "to their context without having to define a separate named function"
   ]
  },
  {
   "cell_type": "code",
   "execution_count": 36,
   "id": "3125e1bc",
   "metadata": {},
   "outputs": [],
   "source": [
    "def test(x):\n",
    "    a=lambda x:x + \" hi how are you \"\n",
    "    return a"
   ]
  },
  {
   "cell_type": "code",
   "execution_count": 37,
   "id": "d7817d1d",
   "metadata": {},
   "outputs": [
    {
     "data": {
      "text/plain": [
       "<function __main__.test.<locals>.<lambda>(x)>"
      ]
     },
     "execution_count": 37,
     "metadata": {},
     "output_type": "execute_result"
    }
   ],
   "source": [
    "test(\"Murali\")"
   ]
  },
  {
   "cell_type": "code",
   "execution_count": 38,
   "id": "6550102d",
   "metadata": {},
   "outputs": [],
   "source": [
    "test2=test('Murali')"
   ]
  },
  {
   "cell_type": "code",
   "execution_count": 39,
   "id": "d2c42a65",
   "metadata": {},
   "outputs": [
    {
     "name": "stdout",
     "output_type": "stream",
     "text": [
      "vishnu hi how are you \n"
     ]
    }
   ],
   "source": [
    "print(test2(\"vishnu\"))"
   ]
  },
  {
   "cell_type": "code",
   "execution_count": 41,
   "id": "dcf18679",
   "metadata": {},
   "outputs": [
    {
     "name": "stdout",
     "output_type": "stream",
     "text": [
      "murali hi how are you \n"
     ]
    }
   ],
   "source": [
    "print(test2('murali'))"
   ]
  },
  {
   "cell_type": "code",
   "execution_count": null,
   "id": "13268cb5",
   "metadata": {},
   "outputs": [],
   "source": []
  },
  {
   "cell_type": "code",
   "execution_count": null,
   "id": "1f23c397",
   "metadata": {},
   "outputs": [],
   "source": []
  },
  {
   "cell_type": "code",
   "execution_count": null,
   "id": "339f4a44",
   "metadata": {},
   "outputs": [],
   "source": [
    "6."
   ]
  },
  {
   "cell_type": "code",
   "execution_count": 42,
   "id": "3521a3bb",
   "metadata": {},
   "outputs": [],
   "source": [
    "sq_num=lambda x:x**2"
   ]
  },
  {
   "cell_type": "code",
   "execution_count": 43,
   "id": "b890ee42",
   "metadata": {},
   "outputs": [
    {
     "data": {
      "text/plain": [
       "100"
      ]
     },
     "execution_count": 43,
     "metadata": {},
     "output_type": "execute_result"
    }
   ],
   "source": [
    "sq_num(10)"
   ]
  },
  {
   "cell_type": "code",
   "execution_count": 44,
   "id": "4b34ad60",
   "metadata": {},
   "outputs": [
    {
     "data": {
      "text/plain": [
       "10000"
      ]
     },
     "execution_count": 44,
     "metadata": {},
     "output_type": "execute_result"
    }
   ],
   "source": [
    "sq_num(100)"
   ]
  },
  {
   "cell_type": "code",
   "execution_count": 46,
   "id": "32dd0bef",
   "metadata": {},
   "outputs": [
    {
     "data": {
      "text/plain": [
       "6084"
      ]
     },
     "execution_count": 46,
     "metadata": {},
     "output_type": "execute_result"
    }
   ],
   "source": [
    "sq_num(78)"
   ]
  },
  {
   "cell_type": "code",
   "execution_count": 47,
   "id": "06d16539",
   "metadata": {},
   "outputs": [
    {
     "data": {
      "text/plain": [
       "81"
      ]
     },
     "execution_count": 47,
     "metadata": {},
     "output_type": "execute_result"
    }
   ],
   "source": [
    "sq_num(9)"
   ]
  },
  {
   "cell_type": "code",
   "execution_count": null,
   "id": "9be996ad",
   "metadata": {},
   "outputs": [],
   "source": []
  },
  {
   "cell_type": "code",
   "execution_count": null,
   "id": "62860e0c",
   "metadata": {},
   "outputs": [],
   "source": []
  },
  {
   "cell_type": "code",
   "execution_count": null,
   "id": "e1946994",
   "metadata": {},
   "outputs": [],
   "source": [
    "7."
   ]
  },
  {
   "cell_type": "code",
   "execution_count": 57,
   "id": "18526d9f",
   "metadata": {},
   "outputs": [],
   "source": [
    "l=[77,88,965,45,2,63,7,86,633,699,74,22,520,14452,663,4541]"
   ]
  },
  {
   "cell_type": "code",
   "execution_count": 58,
   "id": "c4f503a7",
   "metadata": {},
   "outputs": [],
   "source": [
    "l.sort()"
   ]
  },
  {
   "cell_type": "code",
   "execution_count": 59,
   "id": "42b3a58b",
   "metadata": {},
   "outputs": [
    {
     "data": {
      "text/plain": [
       "14452"
      ]
     },
     "execution_count": 59,
     "metadata": {},
     "output_type": "execute_result"
    }
   ],
   "source": [
    "l[-1]"
   ]
  },
  {
   "cell_type": "code",
   "execution_count": 60,
   "id": "2db73f83",
   "metadata": {},
   "outputs": [
    {
     "data": {
      "text/plain": [
       "(<function __main__.<lambda>(x)>,\n",
       " [2, 7, 22, 45, 63, 74, 77, 86, 88, 520, 633, 663, 699, 965, 4541, 14452])"
      ]
     },
     "execution_count": 60,
     "metadata": {},
     "output_type": "execute_result"
    }
   ],
   "source": [
    "lambda x:x.sort(),l"
   ]
  },
  {
   "cell_type": "code",
   "execution_count": 63,
   "id": "4593cde3",
   "metadata": {},
   "outputs": [],
   "source": [
    "sorted_value=lambda x:x.sort(),l[-1]"
   ]
  },
  {
   "cell_type": "code",
   "execution_count": 66,
   "id": "9d3adfa9",
   "metadata": {},
   "outputs": [
    {
     "data": {
      "text/plain": [
       "(<function __main__.<lambda>(x)>, 14452)"
      ]
     },
     "execution_count": 66,
     "metadata": {},
     "output_type": "execute_result"
    }
   ],
   "source": [
    "sorted_value"
   ]
  },
  {
   "cell_type": "code",
   "execution_count": null,
   "id": "5ac589be",
   "metadata": {},
   "outputs": [],
   "source": []
  },
  {
   "cell_type": "code",
   "execution_count": 68,
   "id": "94755258",
   "metadata": {},
   "outputs": [
    {
     "name": "stdout",
     "output_type": "stream",
     "text": [
      "20\n"
     ]
    }
   ],
   "source": [
    "numbers = [10, 5, 8, 20, 3, 15]\n",
    "max_value = max(numbers, key=lambda x: x)\n",
    "print(max_value) "
   ]
  },
  {
   "cell_type": "code",
   "execution_count": null,
   "id": "526099e0",
   "metadata": {},
   "outputs": [],
   "source": []
  },
  {
   "cell_type": "code",
   "execution_count": null,
   "id": "d391a735",
   "metadata": {},
   "outputs": [],
   "source": []
  },
  {
   "cell_type": "code",
   "execution_count": null,
   "id": "7c6acaf7",
   "metadata": {},
   "outputs": [],
   "source": [
    "8."
   ]
  },
  {
   "cell_type": "code",
   "execution_count": 69,
   "id": "4ec72ff5",
   "metadata": {},
   "outputs": [],
   "source": [
    "l=[10,20,650,511,6555,38532,8471,9232,2230,45,663,663,688,9,80,90]"
   ]
  },
  {
   "cell_type": "code",
   "execution_count": 70,
   "id": "9fca5645",
   "metadata": {},
   "outputs": [
    {
     "data": {
      "text/plain": [
       "<filter at 0x1f7d30eb8b0>"
      ]
     },
     "execution_count": 70,
     "metadata": {},
     "output_type": "execute_result"
    }
   ],
   "source": [
    "filter(lambda x:x%2==0,l)"
   ]
  },
  {
   "cell_type": "code",
   "execution_count": 71,
   "id": "0f184480",
   "metadata": {},
   "outputs": [
    {
     "data": {
      "text/plain": [
       "[10, 20, 650, 38532, 9232, 2230, 688, 80, 90]"
      ]
     },
     "execution_count": 71,
     "metadata": {},
     "output_type": "execute_result"
    }
   ],
   "source": [
    "list(filter(lambda x:x%2==0,l))"
   ]
  },
  {
   "cell_type": "code",
   "execution_count": 72,
   "id": "309ccd83",
   "metadata": {},
   "outputs": [],
   "source": [
    "test=[87,4,6958,559,887,82,1498,3653,88754,98,36,875,468,98,3254,5847,2541,68,569,7654,36586,8,35,5887]"
   ]
  },
  {
   "cell_type": "code",
   "execution_count": 73,
   "id": "a96fa762",
   "metadata": {},
   "outputs": [
    {
     "data": {
      "text/plain": [
       "[4, 6958, 82, 1498, 88754, 98, 36, 468, 98, 3254, 68, 7654, 36586, 8]"
      ]
     },
     "execution_count": 73,
     "metadata": {},
     "output_type": "execute_result"
    }
   ],
   "source": [
    "list(filter(lambda x:x%2==0,test))"
   ]
  },
  {
   "cell_type": "code",
   "execution_count": null,
   "id": "2f3ffd04",
   "metadata": {},
   "outputs": [],
   "source": []
  },
  {
   "cell_type": "code",
   "execution_count": null,
   "id": "f6090d57",
   "metadata": {},
   "outputs": [],
   "source": []
  },
  {
   "cell_type": "code",
   "execution_count": null,
   "id": "fea00b99",
   "metadata": {},
   "outputs": [],
   "source": [
    "9."
   ]
  },
  {
   "cell_type": "code",
   "execution_count": 74,
   "id": "9a60d246",
   "metadata": {},
   "outputs": [],
   "source": [
    "test=[1,584,216,32,47,3158,7,169,552,655,26944,365,7,84,955,9836,4,8,2465]"
   ]
  },
  {
   "cell_type": "code",
   "execution_count": 75,
   "id": "94f9119a",
   "metadata": {},
   "outputs": [],
   "source": [
    "test.sort()"
   ]
  },
  {
   "cell_type": "code",
   "execution_count": 76,
   "id": "c639622e",
   "metadata": {},
   "outputs": [
    {
     "data": {
      "text/plain": [
       "[1,\n",
       " 4,\n",
       " 7,\n",
       " 7,\n",
       " 8,\n",
       " 32,\n",
       " 47,\n",
       " 84,\n",
       " 169,\n",
       " 216,\n",
       " 365,\n",
       " 552,\n",
       " 584,\n",
       " 655,\n",
       " 955,\n",
       " 2465,\n",
       " 3158,\n",
       " 9836,\n",
       " 26944]"
      ]
     },
     "execution_count": 76,
     "metadata": {},
     "output_type": "execute_result"
    }
   ],
   "source": [
    "test"
   ]
  },
  {
   "cell_type": "code",
   "execution_count": 83,
   "id": "5ec5b8a5",
   "metadata": {},
   "outputs": [],
   "source": [
    "sort=(lambda x:x.sort,test)"
   ]
  },
  {
   "cell_type": "code",
   "execution_count": 84,
   "id": "26117271",
   "metadata": {},
   "outputs": [
    {
     "data": {
      "text/plain": [
       "(<function __main__.<lambda>(x)>,\n",
       " [1,\n",
       "  4,\n",
       "  7,\n",
       "  7,\n",
       "  8,\n",
       "  32,\n",
       "  47,\n",
       "  84,\n",
       "  169,\n",
       "  216,\n",
       "  365,\n",
       "  552,\n",
       "  584,\n",
       "  655,\n",
       "  955,\n",
       "  2465,\n",
       "  3158,\n",
       "  9836,\n",
       "  26944])"
      ]
     },
     "execution_count": 84,
     "metadata": {},
     "output_type": "execute_result"
    }
   ],
   "source": [
    "sort"
   ]
  },
  {
   "cell_type": "code",
   "execution_count": null,
   "id": "968aa1ad",
   "metadata": {},
   "outputs": [],
   "source": []
  },
  {
   "cell_type": "code",
   "execution_count": 89,
   "id": "7c30f246",
   "metadata": {},
   "outputs": [
    {
     "name": "stdout",
     "output_type": "stream",
     "text": [
      "['date', 'apple', 'banana', 'cherry', 'elderberry']\n"
     ]
    }
   ],
   "source": [
    "strings = [\"apple\", \"banana\", \"cherry\", \"date\", \"elderberry\"]\n",
    "sorted_strings = sorted(strings, key=lambda s: len(s))\n",
    "print(sorted_strings)"
   ]
  },
  {
   "cell_type": "code",
   "execution_count": null,
   "id": "af86498d",
   "metadata": {},
   "outputs": [],
   "source": []
  },
  {
   "cell_type": "code",
   "execution_count": null,
   "id": "57729ecd",
   "metadata": {},
   "outputs": [],
   "source": []
  },
  {
   "cell_type": "code",
   "execution_count": null,
   "id": "f04e2e4d",
   "metadata": {},
   "outputs": [],
   "source": [
    "10."
   ]
  },
  {
   "cell_type": "code",
   "execution_count": 90,
   "id": "976d07fe",
   "metadata": {},
   "outputs": [],
   "source": [
    "l1=[10,20,30,40,50]"
   ]
  },
  {
   "cell_type": "code",
   "execution_count": 91,
   "id": "c7109b80",
   "metadata": {},
   "outputs": [],
   "source": [
    "l2=[40,50,60,70,80]"
   ]
  },
  {
   "cell_type": "code",
   "execution_count": 96,
   "id": "d4c7c906",
   "metadata": {},
   "outputs": [
    {
     "data": {
      "text/plain": [
       "[40, 50]"
      ]
     },
     "execution_count": 96,
     "metadata": {},
     "output_type": "execute_result"
    }
   ],
   "source": [
    "list(filter(lambda x:x in l1,l2))"
   ]
  },
  {
   "cell_type": "code",
   "execution_count": null,
   "id": "38b8dd68",
   "metadata": {},
   "outputs": [],
   "source": []
  },
  {
   "cell_type": "code",
   "execution_count": null,
   "id": "f287af07",
   "metadata": {},
   "outputs": [],
   "source": []
  },
  {
   "cell_type": "code",
   "execution_count": null,
   "id": "de71ce63",
   "metadata": {},
   "outputs": [],
   "source": [
    "11."
   ]
  },
  {
   "cell_type": "code",
   "execution_count": 98,
   "id": "65d106dd",
   "metadata": {},
   "outputs": [],
   "source": [
    "def factorial(n):\n",
    "    if n == 0 or n == 1:\n",
    "        return 1\n",
    "    else:\n",
    "        return n * factorial(n - 1)"
   ]
  },
  {
   "cell_type": "code",
   "execution_count": 101,
   "id": "944732b2",
   "metadata": {},
   "outputs": [
    {
     "name": "stdout",
     "output_type": "stream",
     "text": [
      "The factorial is 120\n"
     ]
    }
   ],
   "source": [
    "result = factorial(5)\n",
    "print(f\"The factorial is {result}\")"
   ]
  },
  {
   "cell_type": "code",
   "execution_count": 102,
   "id": "e7524ca9",
   "metadata": {},
   "outputs": [
    {
     "data": {
      "text/plain": [
       "3628800"
      ]
     },
     "execution_count": 102,
     "metadata": {},
     "output_type": "execute_result"
    }
   ],
   "source": [
    "factorial(10)"
   ]
  },
  {
   "cell_type": "code",
   "execution_count": 103,
   "id": "3586b20d",
   "metadata": {},
   "outputs": [
    {
     "data": {
      "text/plain": [
       "2432902008176640000"
      ]
     },
     "execution_count": 103,
     "metadata": {},
     "output_type": "execute_result"
    }
   ],
   "source": [
    "factorial(20)"
   ]
  },
  {
   "cell_type": "code",
   "execution_count": 104,
   "id": "09660b98",
   "metadata": {},
   "outputs": [
    {
     "data": {
      "text/plain": [
       "1"
      ]
     },
     "execution_count": 104,
     "metadata": {},
     "output_type": "execute_result"
    }
   ],
   "source": [
    "factorial(0)"
   ]
  },
  {
   "cell_type": "code",
   "execution_count": 105,
   "id": "6fb0660f",
   "metadata": {},
   "outputs": [
    {
     "data": {
      "text/plain": [
       "1"
      ]
     },
     "execution_count": 105,
     "metadata": {},
     "output_type": "execute_result"
    }
   ],
   "source": [
    "factorial(1)"
   ]
  },
  {
   "cell_type": "code",
   "execution_count": null,
   "id": "8827776b",
   "metadata": {},
   "outputs": [],
   "source": []
  },
  {
   "cell_type": "code",
   "execution_count": null,
   "id": "a0109b22",
   "metadata": {},
   "outputs": [],
   "source": []
  },
  {
   "cell_type": "code",
   "execution_count": null,
   "id": "ad5084bb",
   "metadata": {},
   "outputs": [],
   "source": [
    "12."
   ]
  },
  {
   "cell_type": "code",
   "execution_count": 111,
   "id": "8f214de1",
   "metadata": {},
   "outputs": [],
   "source": [
    "def fibonacci(n):\n",
    "    if n <= 0:\n",
    "        return 0\n",
    "    elif n == 1:\n",
    "        return 1\n",
    "    else:\n",
    "        return fibonacci(n - 1) + fibonacci(n - 2)"
   ]
  },
  {
   "cell_type": "code",
   "execution_count": 112,
   "id": "c9b4c319",
   "metadata": {},
   "outputs": [
    {
     "name": "stdout",
     "output_type": "stream",
     "text": [
      "The Fibonacci number is 55\n"
     ]
    }
   ],
   "source": [
    "result = fibonacci(10)\n",
    "print(f\"The Fibonacci number is {result}\")"
   ]
  },
  {
   "cell_type": "code",
   "execution_count": 113,
   "id": "4d47ccec",
   "metadata": {},
   "outputs": [
    {
     "data": {
      "text/plain": [
       "0"
      ]
     },
     "execution_count": 113,
     "metadata": {},
     "output_type": "execute_result"
    }
   ],
   "source": [
    "fibonacci(0)"
   ]
  },
  {
   "cell_type": "code",
   "execution_count": 114,
   "id": "799c9190",
   "metadata": {},
   "outputs": [
    {
     "data": {
      "text/plain": [
       "1"
      ]
     },
     "execution_count": 114,
     "metadata": {},
     "output_type": "execute_result"
    }
   ],
   "source": [
    "fibonacci(1)"
   ]
  },
  {
   "cell_type": "code",
   "execution_count": 115,
   "id": "738f1168",
   "metadata": {},
   "outputs": [
    {
     "data": {
      "text/plain": [
       "5"
      ]
     },
     "execution_count": 115,
     "metadata": {},
     "output_type": "execute_result"
    }
   ],
   "source": [
    "fibonacci(5)"
   ]
  },
  {
   "cell_type": "code",
   "execution_count": 129,
   "id": "f646ca28",
   "metadata": {},
   "outputs": [
    {
     "name": "stdout",
     "output_type": "stream",
     "text": [
      "Enter the number to check fibbonci series ; 10\n",
      "The obtained result is  55\n"
     ]
    }
   ],
   "source": [
    "a=0\n",
    "b=1\n",
    "n=int(input(\"Enter the number to check fibbonci series ; \"))\n",
    "for i  in range(n-1):\n",
    "    a,b=b,a+b\n",
    "print(\"The obtained result is \",b)"
   ]
  },
  {
   "cell_type": "code",
   "execution_count": null,
   "id": "eb9c2319",
   "metadata": {},
   "outputs": [],
   "source": []
  },
  {
   "cell_type": "code",
   "execution_count": null,
   "id": "5a7ff9cd",
   "metadata": {},
   "outputs": [],
   "source": []
  },
  {
   "cell_type": "code",
   "execution_count": null,
   "id": "0dcb8a26",
   "metadata": {},
   "outputs": [],
   "source": [
    "13."
   ]
  },
  {
   "cell_type": "code",
   "execution_count": 135,
   "id": "271c4086",
   "metadata": {},
   "outputs": [],
   "source": [
    "def recursive_sum(lst):\n",
    "    if not lst:\n",
    "        return 0\n",
    "    else:\n",
    "        return lst[0] + recursive_sum(lst[1:])"
   ]
  },
  {
   "cell_type": "code",
   "execution_count": 136,
   "id": "9aba1c62",
   "metadata": {},
   "outputs": [
    {
     "name": "stdout",
     "output_type": "stream",
     "text": [
      "The sum of the elements in the list is: 15\n"
     ]
    }
   ],
   "source": [
    "l = [1, 2, 3, 4, 5]\n",
    "total_sum = recursive_sum(l)\n",
    "print(f\"The sum of the elements in the list is: {total_sum}\")"
   ]
  },
  {
   "cell_type": "code",
   "execution_count": 137,
   "id": "8a0c1ad6",
   "metadata": {},
   "outputs": [],
   "source": [
    "l1=[10,520,53,2565,87,32469953,652,87442,55]"
   ]
  },
  {
   "cell_type": "code",
   "execution_count": 138,
   "id": "a3fe518a",
   "metadata": {},
   "outputs": [
    {
     "data": {
      "text/plain": [
       "32561337"
      ]
     },
     "execution_count": 138,
     "metadata": {},
     "output_type": "execute_result"
    }
   ],
   "source": [
    "recursive_sum(l1)"
   ]
  },
  {
   "cell_type": "code",
   "execution_count": null,
   "id": "c480aabb",
   "metadata": {},
   "outputs": [],
   "source": []
  },
  {
   "cell_type": "code",
   "execution_count": null,
   "id": "e9c34eef",
   "metadata": {},
   "outputs": [],
   "source": []
  },
  {
   "cell_type": "code",
   "execution_count": null,
   "id": "6120b473",
   "metadata": {},
   "outputs": [],
   "source": [
    "14."
   ]
  },
  {
   "cell_type": "code",
   "execution_count": 139,
   "id": "4d02147e",
   "metadata": {},
   "outputs": [],
   "source": [
    "def is_palindrome(s):\n",
    "    s = s.lower()  # Convert to lowercase for case-insensitive comparison\n",
    "    if len(s) <= 1:\n",
    "        return True\n",
    "    elif s[0] == s[-1]:\n",
    "        return is_palindrome(s[1:-1])\n",
    "    else:\n",
    "        return False"
   ]
  },
  {
   "cell_type": "code",
   "execution_count": 150,
   "id": "3b5136a1",
   "metadata": {},
   "outputs": [
    {
     "name": "stdout",
     "output_type": "stream",
     "text": [
      "True\n",
      "False\n",
      "False\n",
      "False\n",
      "True\n"
     ]
    }
   ],
   "source": [
    "l=['level','grapes','mango','litchi','racecar']\n",
    "for i in l:\n",
    "    res=is_palindrome(i)\n",
    "    print(res)"
   ]
  },
  {
   "cell_type": "code",
   "execution_count": 151,
   "id": "7f792605",
   "metadata": {},
   "outputs": [],
   "source": [
    "l=['arun','hanju']"
   ]
  },
  {
   "cell_type": "code",
   "execution_count": 152,
   "id": "0ff3e3c5",
   "metadata": {},
   "outputs": [
    {
     "name": "stdout",
     "output_type": "stream",
     "text": [
      "False\n",
      "False\n"
     ]
    }
   ],
   "source": [
    "for i in l:\n",
    "    res=is_palindrome(i)\n",
    "    print(res)"
   ]
  },
  {
   "cell_type": "code",
   "execution_count": null,
   "id": "5180578b",
   "metadata": {},
   "outputs": [],
   "source": []
  },
  {
   "cell_type": "code",
   "execution_count": null,
   "id": "651c8b22",
   "metadata": {},
   "outputs": [],
   "source": []
  },
  {
   "cell_type": "code",
   "execution_count": null,
   "id": "b189c71f",
   "metadata": {},
   "outputs": [],
   "source": [
    "15."
   ]
  },
  {
   "cell_type": "code",
   "execution_count": 153,
   "id": "ed49143b",
   "metadata": {},
   "outputs": [],
   "source": [
    "def gcd(a, b):\n",
    "    if b == 0:\n",
    "        return a\n",
    "    else:\n",
    "        return gcd(b, a % b)"
   ]
  },
  {
   "cell_type": "code",
   "execution_count": 154,
   "id": "f472768c",
   "metadata": {},
   "outputs": [
    {
     "data": {
      "text/plain": [
       "10"
      ]
     },
     "execution_count": 154,
     "metadata": {},
     "output_type": "execute_result"
    }
   ],
   "source": [
    "gcd(10,20)"
   ]
  },
  {
   "cell_type": "code",
   "execution_count": 155,
   "id": "041398fd",
   "metadata": {},
   "outputs": [
    {
     "data": {
      "text/plain": [
       "6"
      ]
     },
     "execution_count": 155,
     "metadata": {},
     "output_type": "execute_result"
    }
   ],
   "source": [
    "gcd(48,18)"
   ]
  },
  {
   "cell_type": "code",
   "execution_count": 156,
   "id": "15ecfe3d",
   "metadata": {},
   "outputs": [
    {
     "data": {
      "text/plain": [
       "10"
      ]
     },
     "execution_count": 156,
     "metadata": {},
     "output_type": "execute_result"
    }
   ],
   "source": [
    "gcd(10,0)"
   ]
  },
  {
   "cell_type": "code",
   "execution_count": null,
   "id": "48120edd",
   "metadata": {},
   "outputs": [],
   "source": []
  }
 ],
 "metadata": {
  "kernelspec": {
   "display_name": "Python 3 (ipykernel)",
   "language": "python",
   "name": "python3"
  },
  "language_info": {
   "codemirror_mode": {
    "name": "ipython",
    "version": 3
   },
   "file_extension": ".py",
   "mimetype": "text/x-python",
   "name": "python",
   "nbconvert_exporter": "python",
   "pygments_lexer": "ipython3",
   "version": "3.10.9"
  }
 },
 "nbformat": 4,
 "nbformat_minor": 5
}
