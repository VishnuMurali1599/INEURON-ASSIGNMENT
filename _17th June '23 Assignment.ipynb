{
 "cells": [
  {
   "cell_type": "markdown",
   "id": "a36b975d",
   "metadata": {},
   "source": [
    "# Exception Handling"
   ]
  },
  {
   "cell_type": "code",
   "execution_count": null,
   "id": "def856e8",
   "metadata": {},
   "outputs": [],
   "source": []
  },
  {
   "cell_type": "code",
   "execution_count": null,
   "id": "334a5c12",
   "metadata": {},
   "outputs": [],
   "source": [
    "1."
   ]
  },
  {
   "cell_type": "code",
   "execution_count": null,
   "id": "f16cb7ce",
   "metadata": {},
   "outputs": [],
   "source": [
    "try:The code that might raise an exception is placed within try block.\n",
    "    The code within the try block is the portion of code where you expect exceptions to occur.\n",
    "    We enclose the code that might raise exceptions within the try block.\n",
    "    If an exception occurs within the try block, the program jumps out of the try block immediately \n",
    "    and proceeds to the corresponding except block.\n",
    "\n",
    "except:The except block follows the try block and specifies that actions to be taken when a specific \n",
    "    exception occurs.\n",
    "    We can specify the type of exception we want to catch after the except keyword. If that \n",
    "    exception or its subclass is raised in the try block, the code in the corresponding except \n",
    "    block is executed."
   ]
  },
  {
   "cell_type": "code",
   "execution_count": null,
   "id": "5001e442",
   "metadata": {},
   "outputs": [],
   "source": []
  },
  {
   "cell_type": "code",
   "execution_count": null,
   "id": "9d69ccd5",
   "metadata": {},
   "outputs": [],
   "source": []
  },
  {
   "cell_type": "code",
   "execution_count": null,
   "id": "1f3d3020",
   "metadata": {},
   "outputs": [],
   "source": [
    "2."
   ]
  },
  {
   "cell_type": "code",
   "execution_count": 1,
   "id": "d02c3f0b",
   "metadata": {},
   "outputs": [],
   "source": [
    "try:\n",
    "     # Code that might raise an exception\n",
    "    pass\n",
    "except:\n",
    "    # Code to handle the exception\n",
    "    pass"
   ]
  },
  {
   "cell_type": "code",
   "execution_count": 5,
   "id": "6bd965e2",
   "metadata": {},
   "outputs": [
    {
     "name": "stdout",
     "output_type": "stream",
     "text": [
      "something wrong\n"
     ]
    }
   ],
   "source": [
    "#Example:\n",
    "try:\n",
    "    a=10\n",
    "    b=\"vishnu\"\n",
    "    c=a+b\n",
    "    print(c)\n",
    "except:\n",
    "    print(\"something wrong\")"
   ]
  },
  {
   "cell_type": "code",
   "execution_count": 6,
   "id": "d72bca0b",
   "metadata": {},
   "outputs": [
    {
     "name": "stdout",
     "output_type": "stream",
     "text": [
      "30\n"
     ]
    }
   ],
   "source": [
    "#Example:\n",
    "try:\n",
    "    a=10\n",
    "    b=20\n",
    "    c=a+b\n",
    "    print(c)\n",
    "except:\n",
    "    print(\"something wrong\")"
   ]
  },
  {
   "cell_type": "code",
   "execution_count": null,
   "id": "40cd6037",
   "metadata": {},
   "outputs": [],
   "source": []
  },
  {
   "cell_type": "code",
   "execution_count": null,
   "id": "33e84bc9",
   "metadata": {},
   "outputs": [],
   "source": []
  },
  {
   "cell_type": "code",
   "execution_count": null,
   "id": "ecf318bb",
   "metadata": {},
   "outputs": [],
   "source": [
    "3."
   ]
  },
  {
   "cell_type": "code",
   "execution_count": null,
   "id": "22388c38",
   "metadata": {},
   "outputs": [],
   "source": [
    "If an exception occurs inside a try block and there is no matching except block to handle that \n",
    "specific type of exception, the exception will propagate up the call stack until its caught by an \n",
    "appropriate except block, or if no such block is found, it will lead to your program crashing and an \n",
    "error message being displayed.\n",
    "\n",
    " one or more except blocks to catch and handle the types of exceptions that you anticipate \n",
    "might occur in our try block."
   ]
  },
  {
   "cell_type": "code",
   "execution_count": 13,
   "id": "762bdd3d",
   "metadata": {},
   "outputs": [
    {
     "ename": "ValueError",
     "evalue": "invalid literal for int() with base 10: 'vishnu'",
     "output_type": "error",
     "traceback": [
      "\u001b[1;31m---------------------------------------------------------------------------\u001b[0m",
      "\u001b[1;31mValueError\u001b[0m                                Traceback (most recent call last)",
      "Cell \u001b[1;32mIn[13], line 3\u001b[0m\n\u001b[0;32m      1\u001b[0m \u001b[38;5;66;03m### Example\u001b[39;00m\n\u001b[0;32m      2\u001b[0m \u001b[38;5;28;01mtry\u001b[39;00m:\n\u001b[1;32m----> 3\u001b[0m     x \u001b[38;5;241m=\u001b[39m \u001b[38;5;28;43mint\u001b[39;49m\u001b[43m(\u001b[49m\u001b[38;5;124;43m\"\u001b[39;49m\u001b[38;5;124;43mvishnu\u001b[39;49m\u001b[38;5;124;43m\"\u001b[39;49m\u001b[43m)\u001b[49m\n\u001b[0;32m      4\u001b[0m \u001b[38;5;28;01mexcept\u001b[39;00m \u001b[38;5;167;01mZeroDivisionError\u001b[39;00m:\n\u001b[0;32m      5\u001b[0m     \u001b[38;5;28mprint\u001b[39m(\u001b[38;5;124m\"\u001b[39m\u001b[38;5;124mSomething wrong\u001b[39m\u001b[38;5;124m\"\u001b[39m)\n",
      "\u001b[1;31mValueError\u001b[0m: invalid literal for int() with base 10: 'vishnu'"
     ]
    }
   ],
   "source": [
    "### Example\n",
    "try:\n",
    "    x = int(\"vishnu\")\n",
    "except ZeroDivisionError:\n",
    "    print(\"Something wrong\")"
   ]
  },
  {
   "cell_type": "code",
   "execution_count": null,
   "id": "f9297ad1",
   "metadata": {},
   "outputs": [],
   "source": [
    "### Trying different exception block"
   ]
  },
  {
   "cell_type": "code",
   "execution_count": 9,
   "id": "34ca6888",
   "metadata": {},
   "outputs": [
    {
     "name": "stdout",
     "output_type": "stream",
     "text": [
      "something wrong\n"
     ]
    }
   ],
   "source": [
    "try:\n",
    "    x = int(\"vishnu\")\n",
    "except:\n",
    "    print(\"something wrong\")"
   ]
  },
  {
   "cell_type": "code",
   "execution_count": 12,
   "id": "1527d67a",
   "metadata": {},
   "outputs": [
    {
     "name": "stdout",
     "output_type": "stream",
     "text": [
      "cannot able to convert into int\n"
     ]
    }
   ],
   "source": [
    "try:\n",
    "    x = int(\"vishnu\")\n",
    "except ValueError:\n",
    "    print(\"cannot able to convert into int\")"
   ]
  },
  {
   "cell_type": "code",
   "execution_count": null,
   "id": "31bd678d",
   "metadata": {},
   "outputs": [],
   "source": []
  },
  {
   "cell_type": "code",
   "execution_count": null,
   "id": "d32916ee",
   "metadata": {},
   "outputs": [],
   "source": []
  },
  {
   "cell_type": "code",
   "execution_count": null,
   "id": "45f95e13",
   "metadata": {},
   "outputs": [],
   "source": [
    "4."
   ]
  },
  {
   "cell_type": "code",
   "execution_count": null,
   "id": "7d7f882c",
   "metadata": {},
   "outputs": [],
   "source": [
    "When we use a bare except block (without specifying any exception type), it catches all exceptions \n",
    "that may occur in the try block, regardless of the type of the exception.\n",
    "\n",
    "Generally discouraged because it can lead to unintended consequences and make debugging difficult.\n",
    "\n",
    "We wont have specific information about what went wrong, which can make it challenging to fix issues \n",
    "or handle errors."
   ]
  },
  {
   "cell_type": "code",
   "execution_count": 14,
   "id": "fc90dbd5",
   "metadata": {},
   "outputs": [
    {
     "name": "stdout",
     "output_type": "stream",
     "text": [
      "something wrong\n"
     ]
    }
   ],
   "source": [
    "#Example:\n",
    "try:\n",
    "    a=10\n",
    "    b=\"20\"\n",
    "    c=a+b\n",
    "    print(c)\n",
    "except:\n",
    "    print(\"something wrong\")\n",
    "    #But we dont know what kind of error is it occured."
   ]
  },
  {
   "cell_type": "code",
   "execution_count": null,
   "id": "ae03e651",
   "metadata": {},
   "outputs": [],
   "source": [
    "When we specify a specific exception type in an except block, the block only catches exceptions of \n",
    "that particular type or its subclasses. This approach is recommended because it allows us to handle \n",
    "different types of exceptions in distinct ways and provides more meaningful error messages. \n",
    "It also makes your code more robust and easier to maintain."
   ]
  },
  {
   "cell_type": "code",
   "execution_count": 18,
   "id": "21827f3b",
   "metadata": {},
   "outputs": [
    {
     "name": "stdout",
     "output_type": "stream",
     "text": [
      "wriiten wrong input\n"
     ]
    }
   ],
   "source": [
    "#Example:\n",
    "try:\n",
    "    a=10\n",
    "    b=\"20\"\n",
    "    c=a+b\n",
    "    print(c)\n",
    "except TypeError:\n",
    "    print(\"wriiten wrong input\")\n",
    "except ValueError:\n",
    "    print(\"something wrong\")\n",
    "    \n",
    "    # here we specifiaclly knows what error have been done"
   ]
  },
  {
   "cell_type": "code",
   "execution_count": null,
   "id": "6d1cace9",
   "metadata": {},
   "outputs": [],
   "source": []
  },
  {
   "cell_type": "code",
   "execution_count": null,
   "id": "f28e99b6",
   "metadata": {},
   "outputs": [],
   "source": []
  },
  {
   "cell_type": "code",
   "execution_count": null,
   "id": "b0c57c23",
   "metadata": {},
   "outputs": [],
   "source": [
    "5."
   ]
  },
  {
   "cell_type": "code",
   "execution_count": null,
   "id": "5484b589",
   "metadata": {},
   "outputs": [],
   "source": [
    "Yes, we can definitely have nested try-except blocks in Python"
   ]
  },
  {
   "cell_type": "code",
   "execution_count": 19,
   "id": "a0d4201f",
   "metadata": {},
   "outputs": [
    {
     "name": "stdout",
     "output_type": "stream",
     "text": [
      "Enter a number: 10\n",
      "Result: 1.0\n"
     ]
    }
   ],
   "source": [
    "try:\n",
    "    x = int(input(\"Enter a number: \"))\n",
    "    try:\n",
    "        result = 10 / x\n",
    "        print(\"Result:\", result)\n",
    "    except ZeroDivisionError:\n",
    "        print(\"Cannot divide by zero in inner try-except.\")\n",
    "except ValueError:\n",
    "    print(\"Invalid input.\")"
   ]
  },
  {
   "cell_type": "code",
   "execution_count": 20,
   "id": "5688f403",
   "metadata": {},
   "outputs": [
    {
     "name": "stdout",
     "output_type": "stream",
     "text": [
      "Enter a number: kasjdkas\n",
      "Invalid input.\n"
     ]
    }
   ],
   "source": [
    "try:\n",
    "    x = int(input(\"Enter a number: \"))\n",
    "    try:\n",
    "        result = 10 / x\n",
    "        print(\"Result:\", result)\n",
    "    except ZeroDivisionError:\n",
    "        print(\"Cannot divide by zero in inner try-except.\")\n",
    "except ValueError:\n",
    "    print(\"Invalid input.\")"
   ]
  },
  {
   "cell_type": "code",
   "execution_count": 22,
   "id": "d45456cc",
   "metadata": {},
   "outputs": [
    {
     "name": "stdout",
     "output_type": "stream",
     "text": [
      "Enter a number: 0\n",
      "Cannot divide by zero.\n"
     ]
    }
   ],
   "source": [
    "try:\n",
    "    x = int(input(\"Enter a number: \"))\n",
    "    try:\n",
    "        result = 10 / x\n",
    "        print(\"Result:\", result)\n",
    "    except ZeroDivisionError:\n",
    "        print(\"Cannot divide by zero.\")\n",
    "except ValueError:\n",
    "    print(\"Invalid input.\")"
   ]
  },
  {
   "cell_type": "code",
   "execution_count": null,
   "id": "86341a97",
   "metadata": {},
   "outputs": [],
   "source": []
  },
  {
   "cell_type": "code",
   "execution_count": null,
   "id": "89df6ef8",
   "metadata": {},
   "outputs": [],
   "source": []
  },
  {
   "cell_type": "code",
   "execution_count": null,
   "id": "757e7755",
   "metadata": {},
   "outputs": [],
   "source": [
    "6."
   ]
  },
  {
   "cell_type": "code",
   "execution_count": null,
   "id": "15cb548e",
   "metadata": {},
   "outputs": [],
   "source": [
    "Yes we can use multiple except blocks to handle different types of exceptions in Python."
   ]
  },
  {
   "cell_type": "code",
   "execution_count": 23,
   "id": "e33f1df6",
   "metadata": {},
   "outputs": [
    {
     "name": "stdout",
     "output_type": "stream",
     "text": [
      "Enter a number: 10\n",
      "Result: 1.0\n"
     ]
    }
   ],
   "source": [
    "try:\n",
    "    x = int(input(\"Enter a number: \"))\n",
    "    result = 10 / x\n",
    "    print(\"Result:\", result)\n",
    "except ZeroDivisionError:\n",
    "    print(\"Cannot divide by zero.\")\n",
    "except ValueError:\n",
    "    print(\"Invalid input. Please enter a valid number.\")\n",
    "except Exception as e:\n",
    "    print(\"An unexpected error occurred:\", e)"
   ]
  },
  {
   "cell_type": "code",
   "execution_count": 24,
   "id": "417c33f1",
   "metadata": {},
   "outputs": [
    {
     "name": "stdout",
     "output_type": "stream",
     "text": [
      "Enter a number: 10+j\n",
      "Invalid input. Please enter a valid number.\n"
     ]
    }
   ],
   "source": [
    "try:\n",
    "    x = int(input(\"Enter a number: \"))\n",
    "    result = 10 / x\n",
    "    print(\"Result:\", result)\n",
    "except ZeroDivisionError:\n",
    "    print(\"Cannot divide by zero.\")\n",
    "except ValueError:\n",
    "    print(\"Invalid input. Please enter a valid number.\")\n",
    "except Exception as e:\n",
    "    print(\"An unexpected error occurred:\", e)"
   ]
  },
  {
   "cell_type": "code",
   "execution_count": null,
   "id": "1b2b829e",
   "metadata": {},
   "outputs": [],
   "source": []
  },
  {
   "cell_type": "code",
   "execution_count": null,
   "id": "ba56e1f8",
   "metadata": {},
   "outputs": [],
   "source": []
  },
  {
   "cell_type": "code",
   "execution_count": null,
   "id": "d3755fba",
   "metadata": {},
   "outputs": [],
   "source": [
    "7."
   ]
  },
  {
   "cell_type": "code",
   "execution_count": null,
   "id": "76ed566f",
   "metadata": {},
   "outputs": [],
   "source": [
    "Eof Error:\n",
    "    Raised when an input operation (like input() or reading from a file) reaches the end of file \n",
    "    (EOF) and no more input is available to be read.\n",
    "    \n",
    "FloatingPointError:\n",
    "    Raised when a floating-point operation (like division by zero or invalid results due to \n",
    "    precision limits) results in an unrepresentable value.\n",
    "    \n",
    "IndexError:\n",
    "    Raised when we try to access an index of a sequence (like a list or string) \n",
    "    that is outside the valid range of indices, typically when the index is negative or greater\n",
    "    than or equal to the length of the sequence\n",
    "\n",
    "MemoryError:\n",
    "    Raised when an operation cannot be completed due to a lack of available memory, indicating that \n",
    "    the systems memory is exhausted.\n",
    "\n",
    "OverflowError:\n",
    "    Raised when a numerical operation exceeds the maximum limit that can be represented, \n",
    "    typically involving integers.\n",
    "\n",
    "TabError:\n",
    "    Raised when inconsistent use of tabs and spaces is detected in the indentation of code blocks. \n",
    "    Its often related to incorrect formatting in Python code.\n",
    "    \n",
    "ValueError:\n",
    "    Raised when an operation or function receives an argument of the correct type but with an \n",
    "    inappropriate value.\n",
    "    For example, trying to convert a string that is not a valid integer to an \n",
    "    integer would raise a ValueError"
   ]
  },
  {
   "cell_type": "code",
   "execution_count": null,
   "id": "01a13cf7",
   "metadata": {},
   "outputs": [],
   "source": []
  },
  {
   "cell_type": "code",
   "execution_count": null,
   "id": "54351547",
   "metadata": {},
   "outputs": [],
   "source": []
  },
  {
   "cell_type": "code",
   "execution_count": null,
   "id": "aa083043",
   "metadata": {},
   "outputs": [],
   "source": [
    "8."
   ]
  },
  {
   "cell_type": "code",
   "execution_count": null,
   "id": "7055f252",
   "metadata": {},
   "outputs": [],
   "source": [
    "a."
   ]
  },
  {
   "cell_type": "code",
   "execution_count": 25,
   "id": "415487a5",
   "metadata": {},
   "outputs": [
    {
     "name": "stdout",
     "output_type": "stream",
     "text": [
      "10\n",
      "20\n",
      "The obtianed result is  0.5\n"
     ]
    }
   ],
   "source": [
    "try:\n",
    "    a=int(input())\n",
    "    b=int(input())\n",
    "    c=a/b\n",
    "    print(\"The obtianed result is \",c)\n",
    "except ZeroDivisionError:\n",
    "    print(\"The denominator sholud not be zero\")"
   ]
  },
  {
   "cell_type": "code",
   "execution_count": 26,
   "id": "15fb157e",
   "metadata": {},
   "outputs": [
    {
     "name": "stdout",
     "output_type": "stream",
     "text": [
      "10\n",
      "0\n",
      "The denominator sholud not be zero\n"
     ]
    }
   ],
   "source": [
    "try:\n",
    "    a=int(input())\n",
    "    b=int(input())\n",
    "    c=a/b\n",
    "    print(\"The obtianed result is \",c)\n",
    "except ZeroDivisionError:\n",
    "    print(\"The denominator sholud not be zero\")"
   ]
  },
  {
   "cell_type": "code",
   "execution_count": null,
   "id": "1c8b172c",
   "metadata": {},
   "outputs": [],
   "source": [
    "b."
   ]
  },
  {
   "cell_type": "code",
   "execution_count": 32,
   "id": "d25739f0",
   "metadata": {},
   "outputs": [
    {
     "name": "stdout",
     "output_type": "stream",
     "text": [
      "Enter a number: 10\n",
      "Integer value: 10\n"
     ]
    }
   ],
   "source": [
    "try:\n",
    "    a =input(\"Enter a number: \")\n",
    "    b =str(a)\n",
    "    print(\"Integer value:\",b)\n",
    "except ValueError:\n",
    "    print(\"Invalid input. Please enter a valid number.\")"
   ]
  },
  {
   "cell_type": "code",
   "execution_count": null,
   "id": "c155835f",
   "metadata": {},
   "outputs": [],
   "source": [
    "c."
   ]
  },
  {
   "cell_type": "code",
   "execution_count": 34,
   "id": "78f023c4",
   "metadata": {},
   "outputs": [
    {
     "name": "stdout",
     "output_type": "stream",
     "text": [
      "Enter an index to access an element: 2\n",
      "Element at index 2 is: 30\n"
     ]
    }
   ],
   "source": [
    "l = [10, 20, 30, 40, 50]\n",
    "\n",
    "try:\n",
    "    index = int(input(\"Enter an index to access an element: \"))\n",
    "    element =l[index]\n",
    "    print(\"Element at index\", index, \"is:\", element)\n",
    "except IndexError:\n",
    "    print(\"Index out of range. Please enter a valid index.\")\n",
    "except ValueError:\n",
    "    print(\"Invalid input. Please enter a valid integer index.\")\n"
   ]
  },
  {
   "cell_type": "code",
   "execution_count": null,
   "id": "e1a5f17e",
   "metadata": {},
   "outputs": [],
   "source": [
    "d."
   ]
  },
  {
   "cell_type": "code",
   "execution_count": 40,
   "id": "2b551e5c",
   "metadata": {},
   "outputs": [
    {
     "name": "stdout",
     "output_type": "stream",
     "text": [
      "Enter an integer: 0\n",
      "Enter the numnerator: 140\n",
      "Cannot divide by zero.\n"
     ]
    }
   ],
   "source": [
    "try:\n",
    "    number = int(input(\"Enter an integer: \"))\n",
    "    numerator=int(input('Enter the numnerator: '))\n",
    "    result = numerator/ number\n",
    "    print(\"Result:\", result)\n",
    "except ValueError:\n",
    "    print(\"Invalid input. Please enter a valid integer.\")\n",
    "except ZeroDivisionError:\n",
    "    print(\"Cannot divide by zero.\")\n"
   ]
  },
  {
   "cell_type": "code",
   "execution_count": null,
   "id": "86c389dc",
   "metadata": {},
   "outputs": [],
   "source": [
    "e."
   ]
  },
  {
   "cell_type": "code",
   "execution_count": 37,
   "id": "10ac468a",
   "metadata": {},
   "outputs": [
    {
     "name": "stdout",
     "output_type": "stream",
     "text": [
      "Enter an integer: 0\n",
      "An error occurred.\n"
     ]
    }
   ],
   "source": [
    "try:\n",
    "    number = int(input(\"Enter an integer: \"))\n",
    "    result = 10 / number\n",
    "    print(\"Result:\", result)\n",
    "except:\n",
    "    print(\"An error occurred.\")\n"
   ]
  },
  {
   "cell_type": "code",
   "execution_count": 39,
   "id": "34b4accb",
   "metadata": {},
   "outputs": [
    {
     "name": "stdout",
     "output_type": "stream",
     "text": [
      "Enter an integer: 0\n",
      "division by zero\n"
     ]
    }
   ],
   "source": [
    "try:\n",
    "    number = int(input(\"Enter an integer: \"))\n",
    "    result = 10 / number\n",
    "    print(\"Result:\", result)\n",
    "except Exception as e:\n",
    "    print(e)\n"
   ]
  },
  {
   "cell_type": "code",
   "execution_count": null,
   "id": "cf3fddde",
   "metadata": {},
   "outputs": [],
   "source": []
  }
 ],
 "metadata": {
  "kernelspec": {
   "display_name": "Python 3 (ipykernel)",
   "language": "python",
   "name": "python3"
  },
  "language_info": {
   "codemirror_mode": {
    "name": "ipython",
    "version": 3
   },
   "file_extension": ".py",
   "mimetype": "text/x-python",
   "name": "python",
   "nbconvert_exporter": "python",
   "pygments_lexer": "ipython3",
   "version": "3.10.9"
  }
 },
 "nbformat": 4,
 "nbformat_minor": 5
}
